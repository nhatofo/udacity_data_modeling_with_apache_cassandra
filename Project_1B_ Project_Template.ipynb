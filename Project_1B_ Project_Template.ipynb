{
 "cells": [
  {
   "cell_type": "markdown",
   "metadata": {},
   "source": [
    "# Part I. ETL Pipeline for Pre-Processing the Files"
   ]
  },
  {
   "cell_type": "markdown",
   "metadata": {},
   "source": [
    "## PLEASE RUN THE FOLLOWING CODE FOR PRE-PROCESSING THE FILES"
   ]
  },
  {
   "cell_type": "markdown",
   "metadata": {},
   "source": [
    "#### Import Python packages "
   ]
  },
  {
   "cell_type": "code",
   "execution_count": 17,
   "metadata": {},
   "outputs": [],
   "source": [
    "# Import Python packages \n",
    "import pandas as pd\n",
    "import cassandra\n",
    "import re\n",
    "import os\n",
    "import glob\n",
    "import numpy as np\n",
    "import json\n",
    "import csv"
   ]
  },
  {
   "cell_type": "markdown",
   "metadata": {},
   "source": [
    "#### Creating list of filepaths to process original event csv data files"
   ]
  },
  {
   "cell_type": "code",
   "execution_count": 18,
   "metadata": {},
   "outputs": [
    {
     "name": "stdout",
     "output_type": "stream",
     "text": [
      "/home/workspace\n"
     ]
    }
   ],
   "source": [
    "\"\"\"\n",
    "The lines below for:\n",
    "  checking your current working directory\n",
    "  Get your current folder and subfolder event data\n",
    "  Create a for loop to create a list of files and collect each filepath\n",
    "  join the file path and roots with the subdirectories using glob\n",
    "\"\"\"\n",
    "print(os.getcwd())\n",
    "filepath = os.getcwd() + '/event_data'\n",
    "for root, dirs, files in os.walk(filepath):\n",
    "    file_path_list = glob.glob(os.path.join(root,'*'))"
   ]
  },
  {
   "cell_type": "markdown",
   "metadata": {},
   "source": [
    "#### Processing the files to create the data file csv that will be used for Apache Casssandra tables"
   ]
  },
  {
   "cell_type": "code",
   "execution_count": 19,
   "metadata": {},
   "outputs": [],
   "source": [
    "\"\"\"\n",
    "The script below does:\n",
    " Initiating an empty list of rows that will be generated from each file, for every filepath in the file path list, reads csv file\n",
    " Creates a csv reader object, extract each data row one by one and append it.\n",
    " Create a smaller event data csv file called event_datafile_full csv that will be used to insert data into the Apache Cassandra tables\n",
    " \n",
    "\"\"\"\n",
    "\n",
    "full_data_rows_list = [] \n",
    "for f in file_path_list:\n",
    "    with open(f, 'r', encoding = 'utf8', newline='') as csvfile:  \n",
    "        csvreader = csv.reader(csvfile) \n",
    "        next(csvreader)\n",
    "        for line in csvreader:\n",
    "            full_data_rows_list.append(line) \n",
    "            \n",
    "csv.register_dialect('myDialect', quoting=csv.QUOTE_ALL, skipinitialspace=True)\n",
    "with open('event_datafile_new.csv', 'w', encoding = 'utf8', newline='') as f:\n",
    "    writer = csv.writer(f, dialect='myDialect')\n",
    "    writer.writerow(['artist','firstName','gender','itemInSession','lastName','length',\\\n",
    "                'level','location','sessionId','song','userId'])\n",
    "    \n",
    "    for row in full_data_rows_list:\n",
    "        if (row[0] == ''):\n",
    "            continue\n",
    "        writer.writerow((row[0], row[2], row[3], row[4], row[5], row[6], row[7], row[8], row[12], row[13], row[16]))"
   ]
  },
  {
   "cell_type": "code",
   "execution_count": 20,
   "metadata": {},
   "outputs": [
    {
     "name": "stdout",
     "output_type": "stream",
     "text": [
      "6821\n"
     ]
    }
   ],
   "source": [
    "\"\"\"\n",
    "  Checking the number of rows in your csv file and printing the sum.\n",
    "\"\"\"\n",
    "with open('event_datafile_new.csv', 'r', encoding = 'utf8') as f:\n",
    "    print(sum(1 for line in f))"
   ]
  },
  {
   "cell_type": "markdown",
   "metadata": {},
   "source": [
    "# Part II. Complete the Apache Cassandra coding portion of your project. \n",
    "\n",
    "## Now you are ready to work with the CSV file titled <font color=red>event_datafile_new.csv</font>, located within the Workspace directory.  The event_datafile_new.csv contains the following columns: \n",
    "- artist \n",
    "- firstName of user\n",
    "- gender of user\n",
    "- item number in session\n",
    "- last name of user\n",
    "- length of the song\n",
    "- level (paid or free song)\n",
    "- location of the user\n",
    "- sessionId\n",
    "- song title\n",
    "- userId\n",
    "\n",
    "The image below is a screenshot of what the denormalized data should appear like in the after the code above is run\n",
    "<img src=\"images/image_event_datafile_new.jpg\">"
   ]
  },
  {
   "cell_type": "markdown",
   "metadata": {},
   "source": [
    "## Begin writing your Apache Cassandra code in the cells below"
   ]
  },
  {
   "cell_type": "markdown",
   "metadata": {},
   "source": [
    "#### Creating a Cluster"
   ]
  },
  {
   "cell_type": "code",
   "execution_count": 21,
   "metadata": {},
   "outputs": [],
   "source": [
    "\"\"\"\n",
    "  This should make a connection to a Cassandra instance your local machine\n",
    "  (127.0.0.1) to establish connection and begin executing queries, for a expecifique session.\n",
    "  \n",
    "\"\"\"\n",
    "from cassandra.cluster import Cluster\n",
    "cluster = Cluster()\n",
    "session = cluster.connect()"
   ]
  },
  {
   "cell_type": "markdown",
   "metadata": {},
   "source": [
    "#### Create Keyspace"
   ]
  },
  {
   "cell_type": "code",
   "execution_count": 22,
   "metadata": {},
   "outputs": [],
   "source": [
    "\"\"\"\n",
    " Creating a key space in Cassandra.\n",
    " A keyspace is like a table repository.\n",
    "\"\"\"\n",
    "try:\n",
    "    session.execute(\"\"\"\n",
    "        CREATE KEYSPACE IF NOT EXISTS events\n",
    "        WITH REPLICATION = { 'class':'SimpleStrategy', 'replication_factor':1 }\"\"\"\n",
    "    )\n",
    "except Exception as e:\n",
    "    print(e)"
   ]
  },
  {
   "cell_type": "markdown",
   "metadata": {},
   "source": [
    "#### Set Keyspace"
   ]
  },
  {
   "cell_type": "code",
   "execution_count": 23,
   "metadata": {},
   "outputs": [],
   "source": [
    "\"\"\"\n",
    "  Setting up a  KEYSPACE to the keyspace specified above.\n",
    "\"\"\"\n",
    "try:\n",
    "    session.set_keyspace('events')\n",
    "except Exception as e:\n",
    "    print(e)"
   ]
  },
  {
   "cell_type": "markdown",
   "metadata": {},
   "source": [
    "### Now we need to create tables to run the following queries. Remember, with Apache Cassandra you model the database tables on the queries you want to run."
   ]
  },
  {
   "cell_type": "markdown",
   "metadata": {},
   "source": [
    "## Create queries to ask the following three questions of the data\n",
    "\n",
    "### 1. Give me the artist, song title and song's length in the music app history that was heard during  sessionId = 338, and itemInSession  = 4\n",
    "\n",
    "\n",
    "### 2. Give me only the following: name of artist, song (sorted by itemInSession) and user (first and last name) for userid = 10, sessionid = 182\n",
    "    \n",
    "\n",
    "### 3. Give me every user name (first and last) in my music app history who listened to the song 'All Hands Against His Own'\n",
    "\n",
    "\n"
   ]
  },
  {
   "cell_type": "code",
   "execution_count": 24,
   "metadata": {},
   "outputs": [],
   "source": [
    "\"\"\"\n",
    " this script will create a table song_sessions in way that we can retreave the  song title and song's length in the music app history that was heard during \n",
    " sessionId = 338, and itemInSession = 4\n",
    "\"\"\"  \n",
    "query1_create = 'CREATE TABLE IF NOT EXISTS song_sessions'\n",
    "query1_create = query1_create + '(session_id int, item_in_session int, artist_name text, song_title text, song_duration decimal, PRIMARY KEY(session_id, item_in_session))'\n",
    "\n",
    "try:\n",
    "    session.execute(query1_create)\n",
    "except Exception as e:\n",
    "    print(e)       "
   ]
  },
  {
   "cell_type": "code",
   "execution_count": 25,
   "metadata": {
    "scrolled": false
   },
   "outputs": [],
   "source": [
    "\"\"\"\n",
    " the code below to set up the CSV file. \n",
    " use a csv.reader object to walktroutgh al file, select the (session_id, item_in_session, artist_name, song_title, song_duration)\n",
    " fields into song_sessions table\n",
    " \n",
    "\"\"\"\n",
    "file = 'event_datafile_new.csv'\n",
    "with open(file, encoding = 'utf8') as f:\n",
    "    csvreader = csv.reader(f)\n",
    "    next(csvreader) \n",
    "    for line in csvreader:\n",
    "        query = \"INSERT INTO song_sessions(session_id, item_in_session, artist_name, song_title, song_duration)\"\n",
    "        query = query + \"VALUES(%s, %s, %s, %s, %s)\"\n",
    "        session.execute(query, ( int(line[8]), int(line[3]), line[0], line[9], float(line[5]) ))"
   ]
  },
  {
   "cell_type": "markdown",
   "metadata": {},
   "source": [
    "#### Do a SELECT to verify that the data have been inserted into each table"
   ]
  },
  {
   "cell_type": "code",
   "execution_count": 29,
   "metadata": {
    "scrolled": true
   },
   "outputs": [
    {
     "name": "stdout",
     "output_type": "stream",
     "text": [
      "Faithless Music Matters (Mark Knight Dub) 495.3073\n"
     ]
    }
   ],
   "source": [
    "\"\"\"\n",
    " The SELECT statement is to verify the data was entered into the table.\n",
    "\"\"\"\n",
    "\n",
    "query1_select = \"SELECT artist_name, song_title, song_duration FROM song_sessions WHERE session_id = 338 and  item_in_session = 4\"\n",
    "try:\n",
    "    rows = session.execute(query1_select)\n",
    "except Exceptions as e:\n",
    "    print(e)\n",
    "for row in rows:\n",
    "    print(row.artist_name, row.song_title, row.song_duration )"
   ]
  },
  {
   "cell_type": "markdown",
   "metadata": {},
   "source": [
    "### COPY AND REPEAT THE ABOVE THREE CELLS FOR EACH OF THE THREE QUESTIONS"
   ]
  },
  {
   "cell_type": "code",
   "execution_count": 30,
   "metadata": {},
   "outputs": [],
   "source": [
    "\"\"\"\n",
    " this script will create a table song_users in way that we can retreave  the following: name of artist, song (sorted by itemInSession) and user (first and last name)\\\n",
    " for userid = 10, sessionid = 182\n",
    " use a csv.reader object to walktroutgh all file, select the (user_id, session_id, artist_name, song_title, item_in_session, user_firstname, user_lastname)\n",
    " fields into song_users table\n",
    "\"\"\"  \n",
    "query2_create = 'CREATE TABLE IF NOT EXISTS song_users'\n",
    "query2_create = query2_create + '(user_id int, session_id int, artist_name text, song_title text, item_in_session int, user_firstname text, user_lastname text \\\n",
    "    , PRIMARY KEY( (user_id, session_id), item_in_session, user_firstname, user_lastname) )'\n",
    "try:\n",
    "    session.execute(query2_create)\n",
    "except Exception as e:\n",
    "    print(e)\n",
    "                \n",
    "with open(file, encoding = 'utf8') as f:\n",
    "    csvreader = csv.reader(f)\n",
    "    next(csvreader) \n",
    "    for line in csvreader:\n",
    "        query = \"INSERT INTO song_users(user_id, session_id, artist_name, song_title, item_in_session, user_firstname, user_lastname)\"\n",
    "        query = query + \"VALUES(%s, %s, %s, %s, %s, %s, %s)\"\n",
    "        session.execute(query, ( int(line[10]), int(line[8]), line[0], line[9], int(line[3]), line[1], line[4] ))                    "
   ]
  },
  {
   "cell_type": "code",
   "execution_count": 31,
   "metadata": {},
   "outputs": [
    {
     "name": "stdout",
     "output_type": "stream",
     "text": [
      "Down To The Bone Keep On Keepin' On 0 Sylvie Cruz\n",
      "Three Drives Greece 2000 1 Sylvie Cruz\n",
      "Sebastien Tellier Kilometer 2 Sylvie Cruz\n",
      "Lonnie Gordon Catch You Baby (Steve Pitron & Max Sanna Radio Edit) 3 Sylvie Cruz\n"
     ]
    }
   ],
   "source": [
    "\"\"\"\n",
    " The SELECT statement is to verify the data was entered into the table.\n",
    "\"\"\"\n",
    "query1_select = \"SELECT artist_name, song_title, song_title, item_in_session, user_firstname, user_lastname FROM song_users WHERE user_id = 10 and session_id = 182\"\n",
    "try:\n",
    "    rows = session.execute(query1_select)\n",
    "except Exceptions as e:\n",
    "    print(e)\n",
    "\n",
    "for row in rows:\n",
    "    print(row.artist_name, row.song_title, row.item_in_session, row.user_firstname, row.user_lastname  )                   "
   ]
  },
  {
   "cell_type": "code",
   "execution_count": 32,
   "metadata": {},
   "outputs": [],
   "source": [
    " \"\"\"\n",
    "  this script will create a table song_title in way that we can retreave  the following: \n",
    "  every user name (first and last) in my music app history who listened to the song 'All Hands Against His Own\n",
    "  use a csv.reader object to walktroutgh all file, select the (song_title, user_firstname, user_lastname) \n",
    "  fields into song_title table.\n",
    " \n",
    " \"\"\"\n",
    "query3_create = 'CREATE TABLE IF NOT EXISTS song_title'\n",
    "query3_create = query3_create + '(song_title text, user_firstname text, user_lastname text \\\n",
    "    , PRIMARY KEY( (song_title), user_firstname, user_lastname) )'\n",
    "\n",
    "try:\n",
    "    session.execute(query3_create)\n",
    "except Exception as e:\n",
    "    print(e)\n",
    "                \n",
    "with open(file, encoding = 'utf8') as f:\n",
    "    csvreader = csv.reader(f)\n",
    "    next(csvreader) \n",
    "    for line in csvreader:\n",
    "        query = \"INSERT INTO song_title(song_title, user_firstname, user_lastname)\"\n",
    "        query = query + \"VALUES(%s, %s, %s)\"\n",
    "        session.execute(query, ( line[9], line[1], line[4] ))"
   ]
  },
  {
   "cell_type": "code",
   "execution_count": 33,
   "metadata": {},
   "outputs": [
    {
     "name": "stdout",
     "output_type": "stream",
     "text": [
      "All Hands Against His Own Jacqueline Lynch\n",
      "All Hands Against His Own Sara Johnson\n",
      "All Hands Against His Own Tegan Levine\n"
     ]
    }
   ],
   "source": [
    "\"\"\"\n",
    " The SELECT statement is to verify the data was entered into the table.\n",
    "\"\"\"\n",
    "query3_select = \"SELECT song_title, user_firstname, user_lastname FROM song_title WHERE song_title = 'All Hands Against His Own'\"\n",
    "\n",
    "try:\n",
    "    rows = session.execute(query3_select)\n",
    "except Exceptions as e:\n",
    "    print(e)\n",
    "\n",
    "for row in rows:\n",
    "    print(row.song_title, row.user_firstname, row.user_lastname  )"
   ]
  },
  {
   "cell_type": "markdown",
   "metadata": {},
   "source": [
    "### Drop the tables before closing out the sessions"
   ]
  },
  {
   "cell_type": "code",
   "execution_count": 34,
   "metadata": {},
   "outputs": [],
   "source": [
    "\"\"\"\n",
    " This script drops the table before closing out the sessions.\n",
    "\"\"\"\n",
    "drop_query1 = \"DROP TABLE song_sessions\"\n",
    "drop_query2 = \"DROP TABLE song_users\"\n",
    "drop_query3 = \"DROP TABLE song_title\"\n",
    "\n",
    "try:\n",
    "    rows1 = session.execute(drop_query1)\n",
    "    rows2 = session.execute(drop_query2)\n",
    "    rows3 = session.execute(drop_query3)\n",
    "except Exception as e:\n",
    "    print(e)"
   ]
  },
  {
   "cell_type": "markdown",
   "metadata": {},
   "source": [
    "### Close the session and cluster connection¶"
   ]
  },
  {
   "cell_type": "code",
   "execution_count": 35,
   "metadata": {},
   "outputs": [],
   "source": [
    "session.shutdown()\n",
    "cluster.shutdown()"
   ]
  },
  {
   "cell_type": "code",
   "execution_count": null,
   "metadata": {},
   "outputs": [],
   "source": []
  }
 ],
 "metadata": {
  "kernelspec": {
   "display_name": "Python 3",
   "language": "python",
   "name": "python3"
  },
  "language_info": {
   "codemirror_mode": {
    "name": "ipython",
    "version": 3
   },
   "file_extension": ".py",
   "mimetype": "text/x-python",
   "name": "python",
   "nbconvert_exporter": "python",
   "pygments_lexer": "ipython3",
   "version": "3.6.3"
  }
 },
 "nbformat": 4,
 "nbformat_minor": 2
}
